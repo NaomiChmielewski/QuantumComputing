{
 "cells": [
  {
   "cell_type": "code",
   "execution_count": 1,
   "id": "fdda2f8c-68d1-4e12-8938-963a46f8cbcd",
   "metadata": {},
   "outputs": [],
   "source": [
    "import numpy as np\n",
    "\n",
    "# Importing standard Qiskit libraries\n",
    "import qiskit\n",
    "from qiskit import QuantumCircuit, transpile, Aer, IBMQ, assemble\n",
    "from qiskit.tools.jupyter import *\n",
    "from qiskit.visualization import *\n",
    "from ibm_quantum_widgets import *\n",
    "from qiskit.providers.aer import QasmSimulator\n",
    "\n",
    "# Importing PyTorch libraries\n",
    "import torch\n",
    "from torch.autograd import Function # we will have to define our own forward and backward pass for the parameter shift rule\n",
    "import torch.nn as nn\n",
    "import torch.nn.functional as F\n",
    "from torch.utils.data import DataLoader\n",
    "import torchvision.transforms as transforms\n",
    "import torchvision.utils\n",
    "import torchvision.datasets\n",
    "import torch.optim as optimizer\n",
    "\n",
    "import matplotlib.pyplot as plt\n",
    "plt.rcParams['figure.figsize'] = (10,6)\n",
    "\n",
    "from tqdm import tqdm\n",
    "\n",
    "# Loading your IBM Quantum account(s)\n",
    "provider = IBMQ.load_account()"
   ]
  },
  {
   "cell_type": "code",
   "execution_count": 2,
   "id": "688160a6-37a4-4dec-8dc1-190a3164eda1",
   "metadata": {},
   "outputs": [],
   "source": [
    "# We will create a simple circuit with one adjustable gate, which will be Y-rotation. \n",
    "\n",
    "class QuantumCircuit:\n",
    "    \n",
    "    def __init__(self, backend, shots=100):\n",
    "        # we will only work with one qubit.\n",
    "                \n",
    "        # Initialise the circuit\n",
    "        self._circuit = qiskit.QuantumCircuit(1)\n",
    "                \n",
    "        # Initialise the parameter, which is the degree of rotation about the y-axis\n",
    "        self.theta = qiskit.circuit.Parameter('theta')\n",
    "        \n",
    "        # Define circuit structure\n",
    "        self._circuit.h(0)\n",
    "        self._circuit.barrier()\n",
    "        self._circuit.ry(self.theta, 0)\n",
    "        self._circuit.measure_all()\n",
    "        \n",
    "        # For use in the \"run\" method\n",
    "        self.backend = backend\n",
    "        self.shots = shots\n",
    "        \n",
    "    def run(self, params):\n",
    "        qc = transpile(self._circuit, self.backend)\n",
    "        qobj = assemble(qc, shots=self.shots, parameter_binds = [{self.theta: theta} for theta in params])\n",
    "        job = self.backend.run(qobj)\n",
    "        result = job.result()\n",
    "        c = result.get_counts()\n",
    "        \n",
    "        states = np.array(list(c.keys())).astype(float) # these are the results of the measurements for all shots\n",
    "        counts = np.array(list(c.values())).astype(int) # this is the number of times each state was measures across all shots\n",
    "        \n",
    "        dist = counts/self.shots # distribution of each state\n",
    "        E = np.array([np.sum(states * dist)]) # this is the expectation of the entire circuit\n",
    "        \n",
    "        return E"
   ]
  },
  {
   "cell_type": "code",
   "execution_count": 3,
   "id": "454601bf-56fa-4899-a7f3-01c44df3765d",
   "metadata": {},
   "outputs": [
    {
     "name": "stdout",
     "output_type": "stream",
     "text": [
      "Expected value for pi rotation: [0.55]\n"
     ]
    },
    {
     "data": {
      "image/png": "[encoded data removed]",
      "text/plain": [
       "<Figure size 417.879x144.48 with 1 Axes>"
      ]
     },
     "execution_count": 3,
     "metadata": {},
     "output_type": "execute_result"
    }
   ],
   "source": [
    "# Test the circuit\n",
    "\n",
    "backend = Aer.get_backend('qasm_simulator')\n",
    "circ = QuantumCircuit(backend, shots=100)\n",
    "run = circ.run([np.pi])\n",
    "print('Expected value for pi rotation: {}'.format(run))\n",
    "\n",
    "circ._circuit.draw()"
   ]
  },
  {
   "cell_type": "code",
   "execution_count": 4,
   "id": "ebb75a4f-8bb4-4b09-9fb8-3a92c41824fc",
   "metadata": {},
   "outputs": [],
   "source": [
    "# We need to write the forward and backward pass for our hybrid circuit\n",
    "\n",
    "class HybridForwardBackward(Function):\n",
    "    \n",
    "    @staticmethod\n",
    "    def forward(ctx, X, qc, s):\n",
    "        '''Compute forward pass through the entire circuit. \n",
    "        X is the input data, qc is the quantum circuit, s is the shift parameter'''\n",
    "        ctx.s = s\n",
    "        ctx.qc = qc\n",
    "        \n",
    "        out = torch.tensor([ctx.qc.run(X[0].tolist())])\n",
    "        ctx.save_for_backward(X, out)\n",
    "        \n",
    "        return out\n",
    "    \n",
    "    @staticmethod\n",
    "    def backward(ctx, grad_output):\n",
    "        X, E = ctx.saved_tensors\n",
    "        X_list = np.array(X.tolist())\n",
    "        \n",
    "        pos_shift = X_list + ctx.s * np.ones(X_list.shape)\n",
    "        neg_shift = X_list - ctx.s * np.ones(X_list.shape)\n",
    "        \n",
    "        grads = []\n",
    "        \n",
    "        for k in range(len(X_list)):\n",
    "            pos_E = ctx.qc.run(pos_shift[k])\n",
    "            neg_E = ctx.qc.run(neg_shift[k])\n",
    "            \n",
    "            grads.append(torch.tensor([pos_E]) - torch.tensor([neg_E]))\n",
    "            \n",
    "        grads = np.array([grads]).T\n",
    "        grads = torch.FloatTensor(grads).T\n",
    "        \n",
    "        return grads * grad_output.float(), None, None"
   ]
  },
  {
   "cell_type": "code",
   "execution_count": 5,
   "id": "138595c9-c99f-4b77-af2b-2f49f9f704e2",
   "metadata": {},
   "outputs": [],
   "source": [
    "# Defining the pass through the quantum circuit\n",
    "class Hybrid(nn.Module):\n",
    "    \n",
    "    def __init__(self, backend, shots, s):\n",
    "        super(Hybrid, self).__init__()\n",
    "        \n",
    "        self.qc = QuantumCircuit(backend, shots)\n",
    "        self.s = s\n",
    "        \n",
    "    def forward(self, X):\n",
    "        return HybridForwardBackward.apply(X, self.qc, self.s)"
   ]
  },
  {
   "cell_type": "code",
   "execution_count": 6,
   "id": "028fc86f-84c3-4d7e-9c84-d0a8217a7af5",
   "metadata": {},
   "outputs": [],
   "source": [
    "# We will be working with the MNIST dataset\n",
    "\n",
    "transform = transforms.Compose([transforms.ToTensor()])\n",
    "mnist_train = torchvision.datasets.MNIST(root='.', train=True, download=True, transform=transform)\n",
    "mnist_test = torchvision.datasets.MNIST(root='.', train=False, download=True, transform=transform)"
   ]
  },
  {
   "cell_type": "code",
   "execution_count": 7,
   "id": "3c7410d3-c3b1-4f8e-a9d0-81f14a9acb58",
   "metadata": {},
   "outputs": [],
   "source": [
    "# Only differenciate between 2 and 8\n",
    "num_samples = 100 # otherwise takes way too long\n",
    "\n",
    "index_train = np.append(np.where(mnist_train.targets==0)[0][:num_samples],\n",
    "                      np.where(mnist_train.targets==1)[0][:num_samples])\n",
    "\n",
    "mnist_train.data = mnist_train.data[index_train]\n",
    "mnist_train.targets = mnist_train.targets[index_train]\n",
    "\n",
    "index_test = np.append(np.where(mnist_test.targets==0)[0][:num_samples],\n",
    "                      np.where(mnist_test.targets==1)[0][:num_samples])\n",
    "\n",
    "mnist_test.data = mnist_test.data[index_test]\n",
    "mnist_test.targets = mnist_test.targets[index_test]"
   ]
  },
  {
   "cell_type": "code",
   "execution_count": 8,
   "id": "bb714ca8-5d3c-4a15-8295-c41c411e9d3c",
   "metadata": {},
   "outputs": [],
   "source": [
    "batch_size = 1 \n",
    "\n",
    "train_loader = DataLoader(mnist_train, batch_size=batch_size, shuffle=True)\n",
    "test_loader = DataLoader(mnist_test, batch_size=batch_size, shuffle=True)"
   ]
  },
  {
   "cell_type": "code",
   "execution_count": 9,
   "id": "6477b8dc-b1c4-40da-adad-c49e28af6b8f",
   "metadata": {},
   "outputs": [],
   "source": [
    "# here we define the preprocessing qand integrate the hybrid circuit. For preprocessind, we use a CNN\n",
    "\n",
    "class PQC(nn.Module):\n",
    "    \n",
    "    def __init__(self):\n",
    "        super(PQC, self).__init__()\n",
    "        \n",
    "        self.features = nn.Sequential(\n",
    "            nn.Conv2d(1, 6, kernel_size=5),\n",
    "            nn.ReLU(),\n",
    "            nn.MaxPool2d((2,2)),\n",
    "            nn.Conv2d(6, 16, kernel_size=5),\n",
    "            nn.ReLU(),\n",
    "            nn.MaxPool2d((2,2))\n",
    "            )\n",
    "        \n",
    "        self.classifier = nn.Sequential(\n",
    "            nn.Linear(256, 64),\n",
    "            nn.ReLU(),\n",
    "            nn.Linear(64, 1))\n",
    "        \n",
    "        self.hybrid = Hybrid(Aer.get_backend('qasm_simulator'), shots=100, s=np.pi/2)\n",
    "        \n",
    "    def forward(self, X):\n",
    "        bsize = X.size(0)\n",
    "        features = self.features(X)\n",
    "        x = features.view(bsize, -1)\n",
    "        x = self.classifier(x)\n",
    "        out = self.hybrid(x)\n",
    "        return torch.cat((out, 1-out), -1) # this is the final prediction as provided by the measurement"
   ]
  },
  {
   "cell_type": "code",
   "execution_count": 10,
   "id": "3d58f810-4fde-41cd-8900-4e0172098679",
   "metadata": {},
   "outputs": [
    {
     "name": "stderr",
     "output_type": "stream",
     "text": [
      "/tmp/ipykernel_60/855516647.py:12: UserWarning: Creating a tensor from a list of numpy.ndarrays is extremely slow. Please consider converting the list to a single numpy.ndarray with numpy.array() before converting to a tensor. (Triggered internally at  ../torch/csrc/utils/tensor_new.cpp:201.)\n",
      "  out = torch.tensor([ctx.qc.run(X[0].tolist())])\n",
      "/tmp/ipykernel_60/855516647.py:33: FutureWarning: The input object of type 'Tensor' is an array-like implementing one of the corresponding protocols (`__array__`, `__array_interface__` or `__array_struct__`); but not a sequence (or 0-D). In the future, this object will be coerced as if it was first converted using `np.array(obj)`. To retain the old behaviour, you have to either modify the type 'Tensor', or assign to an empty array created with `np.empty(correct_shape, dtype=object)`.\n",
      "  grads = np.array([grads]).T\n"
     ]
    },
    {
     "name": "stdout",
     "output_type": "stream",
     "text": [
      "Epoch 0 \t Loss -0.8134500000000005\n",
      "Epoch 1 \t Loss -0.9819499999999999\n",
      "Epoch 2 \t Loss -0.9897\n",
      "Epoch 3 \t Loss -0.9913000000000003\n",
      "Epoch 4 \t Loss -0.9946499999999999\n"
     ]
    }
   ],
   "source": [
    "model = PQC()\n",
    "optim = optimizer.Adam(model.parameters(), lr=0.001)\n",
    "criterion = nn.NLLLoss() # this is the negative log likelihood\n",
    "\n",
    "epochs = 5\n",
    "train_losses = []\n",
    "\n",
    "model.train()\n",
    "for epoch in range(epochs):\n",
    "    loss_total = []\n",
    "    for i, (inp, target) in enumerate(train_loader):\n",
    "        optim.zero_grad()\n",
    "        out = model(inp)\n",
    "        loss = criterion(out, target)\n",
    "        loss.backward()\n",
    "        optim.step()\n",
    "        \n",
    "        loss_total.append(loss)\n",
    "    epoch_loss = sum(loss_total)/len(loss_total)\n",
    "    print('Epoch {} \\t Loss {}'.format(epoch, epoch_loss))"
   ]
  },
  {
   "cell_type": "code",
   "execution_count": 11,
   "id": "e2a71231-d9fd-4ef4-ab85-c73eafb73735",
   "metadata": {},
   "outputs": [
    {
     "name": "stdout",
     "output_type": "stream",
     "text": [
      "Label: 1\n",
      "Label: 1\n",
      "Label: 1\n",
      "Label: 0\n",
      "Label: 1\n",
      "Label: 1\n"
     ]
    },
    {
     "data": {
      "image/png": "[encoded data removed]",
      "text/plain": [
       "<Figure size 720x432 with 6 Axes>"
      ]
     },
     "metadata": {
      "needs_background": "light"
     },
     "output_type": "display_data"
    }
   ],
   "source": [
    "model.eval()\n",
    "fig = plt.figure()\n",
    "\n",
    "with torch.no_grad():\n",
    "    \n",
    "    for i in range(6):\n",
    "        image, label = next(iter(test_loader))\n",
    "        out = model(image)\n",
    "        pred = out.argmax(dim=1, keepdim=True)\n",
    "        \n",
    "        lab = label[0]\n",
    "        \n",
    "        img = image[0].squeeze()\n",
    "        \n",
    "        ax = plt.subplot(2, 3, i+1)\n",
    "        plt.tight_layout()\n",
    "        plt.imshow(img, cmap='gray')\n",
    "        print(\"Label: {}\".format(lab))"
   ]
  },
  {
   "cell_type": "code",
   "execution_count": null,
   "id": "5a249b55-619f-406d-9504-dc1f998cbd0c",
   "metadata": {},
   "outputs": [],
   "source": []
  }
 ],
 "metadata": {
  "kernelspec": {
   "display_name": "Qiskit v0.34.1 (ipykernel)",
   "language": "python",
   "name": "python3"
  },
  "language_info": {
   "codemirror_mode": {
    "name": "ipython",
    "version": 3
   },
   "file_extension": ".py",
   "mimetype": "text/x-python",
   "name": "python",
   "nbconvert_exporter": "python",
   "pygments_lexer": "ipython3",
   "version": "3.8.12"
  },
  "widgets": {
   "application/vnd.jupyter.widget-state+json": {
    "state": {
     "1ac0ce38b5ac4570b859de66632eaccc": {
      "model_module": "@jupyter-widgets/controls",
      "model_module_version": "1.5.0",
      "model_name": "DescriptionStyleModel",
      "state": {
       "description_width": ""
      }
     },
     "2f22917914b644f88775de5cba0c431b": {
      "model_module": "@jupyter-widgets/base",
      "model_module_version": "1.2.0",
      "model_name": "LayoutModel",
      "state": {}
     },
     "31805dd03b6c4678b6eb65fb2e811385": {
      "model_module": "@jupyter-widgets/controls",
      "model_module_version": "1.5.0",
      "model_name": "HTMLModel",
      "state": {
       "layout": "IPY_MODEL_d17bbf37aa3041fe9e724ecc86fb26b6",
       "style": "IPY_MODEL_589bb063673141db94c71975c7d441c3",
       "value": "<h5>Backend</h5>"
      }
     },
     "3a5c67c46b464839bc974bba0900ec79": {
      "model_module": "@jupyter-widgets/controls",
      "model_module_version": "1.5.0",
      "model_name": "HTMLModel",
      "state": {
       "layout": "IPY_MODEL_c05ed5e82ade45afac38516e53262ed0",
       "style": "IPY_MODEL_e2d5ebc207624587b70c89156ce5dafe",
       "value": "<p style='font-family: IBM Plex Sans, Arial, Helvetica, sans-serif; font-size: 20px; font-weight: medium;'>Circuit Properties</p>"
      }
     },
     "3b19e786bb844830b25930d99b9d3ef8": {
      "model_module": "@jupyter-widgets/controls",
      "model_module_version": "1.5.0",
      "model_name": "HTMLModel",
      "state": {
       "layout": "IPY_MODEL_2f22917914b644f88775de5cba0c431b",
       "style": "IPY_MODEL_c6017067256a4d7ab41d89c98f165661",
       "value": "<h5>Message</h5>"
      }
     },
     "52247e8f3a864b2c83f13dc8e64828be": {
      "model_module": "@jupyter-widgets/controls",
      "model_module_version": "1.5.0",
      "model_name": "HBoxModel",
      "state": {
       "children": [
        "IPY_MODEL_cab68cd779a54d758973f3a84136a52b",
        "IPY_MODEL_31805dd03b6c4678b6eb65fb2e811385",
        "IPY_MODEL_c0d261fa655d4acba480260614f1181e",
        "IPY_MODEL_bbb2694ba0fa4583b9af02f44aa7e5f6",
        "IPY_MODEL_3b19e786bb844830b25930d99b9d3ef8"
       ],
       "layout": "IPY_MODEL_c637cf9f46c2428aaa6c770464ae6683"
      }
     },
     "589bb063673141db94c71975c7d441c3": {
      "model_module": "@jupyter-widgets/controls",
      "model_module_version": "1.5.0",
      "model_name": "DescriptionStyleModel",
      "state": {
       "description_width": ""
      }
     },
     "7883a89dc61240c788adb08e2ba5da64": {
      "model_module": "@jupyter-widgets/controls",
      "model_module_version": "1.5.0",
      "model_name": "GridBoxModel",
      "state": {
       "children": [
        "IPY_MODEL_fa2fc09181724519828de0fa862a4c91"
       ],
       "layout": "IPY_MODEL_b734e0dd0752411fb8dca7de7157fbb1"
      }
     },
     "7cff463c74624ab9a1e1067c39fcff8f": {
      "model_module": "@jupyter-widgets/controls",
      "model_module_version": "1.5.0",
      "model_name": "DescriptionStyleModel",
      "state": {
       "description_width": ""
      }
     },
     "9b5ea650ad9944b0b72028b20a686cce": {
      "model_module": "@jupyter-widgets/base",
      "model_module_version": "1.2.0",
      "model_name": "LayoutModel",
      "state": {
       "width": "190px"
      }
     },
     "afdd8d5dc01743f0a98a7904395e5f4a": {
      "model_module": "@jupyter-widgets/base",
      "model_module_version": "1.2.0",
      "model_name": "LayoutModel",
      "state": {
       "width": "70px"
      }
     },
     "b734e0dd0752411fb8dca7de7157fbb1": {
      "model_module": "@jupyter-widgets/base",
      "model_module_version": "1.2.0",
      "model_name": "LayoutModel",
      "state": {
       "grid_template_areas": "\n                                       \". . . . right \"\n                                        ",
       "grid_template_columns": "20% 20% 20% 20% 20%",
       "width": "100%"
      }
     },
     "bb948b61ef7d4038995517cb40cde7a5": {
      "model_module": "@jupyter-widgets/base",
      "model_module_version": "1.2.0",
      "model_name": "LayoutModel",
      "state": {
       "grid_area": "right",
       "padding": "0px 0px 0px 0px",
       "width": "70px"
      }
     },
     "bbb2694ba0fa4583b9af02f44aa7e5f6": {
      "model_module": "@jupyter-widgets/controls",
      "model_module_version": "1.5.0",
      "model_name": "HTMLModel",
      "state": {
       "layout": "IPY_MODEL_afdd8d5dc01743f0a98a7904395e5f4a",
       "style": "IPY_MODEL_7cff463c74624ab9a1e1067c39fcff8f",
       "value": "<h5>Queue</h5>"
      }
     },
     "c05ed5e82ade45afac38516e53262ed0": {
      "model_module": "@jupyter-widgets/base",
      "model_module_version": "1.2.0",
      "model_name": "LayoutModel",
      "state": {
       "margin": "0px 0px 10px 0px"
      }
     },
     "c0d261fa655d4acba480260614f1181e": {
      "model_module": "@jupyter-widgets/controls",
      "model_module_version": "1.5.0",
      "model_name": "HTMLModel",
      "state": {
       "layout": "IPY_MODEL_dd844b370a5846cf9888fd2889701203",
       "style": "IPY_MODEL_cda887c513cc483bac19b9c168cdc799",
       "value": "<h5>Status</h5>"
      }
     },
     "c6017067256a4d7ab41d89c98f165661": {
      "model_module": "@jupyter-widgets/controls",
      "model_module_version": "1.5.0",
      "model_name": "DescriptionStyleModel",
      "state": {
       "description_width": ""
      }
     },
     "c621ebeefac24c6d9f03af9cb2837188": {
      "model_module": "@jupyter-widgets/controls",
      "model_module_version": "1.5.0",
      "model_name": "ButtonStyleModel",
      "state": {}
     },
     "c637cf9f46c2428aaa6c770464ae6683": {
      "model_module": "@jupyter-widgets/base",
      "model_module_version": "1.2.0",
      "model_name": "LayoutModel",
      "state": {
       "margin": "0px 0px 0px 37px",
       "width": "600px"
      }
     },
     "cab68cd779a54d758973f3a84136a52b": {
      "model_module": "@jupyter-widgets/controls",
      "model_module_version": "1.5.0",
      "model_name": "HTMLModel",
      "state": {
       "layout": "IPY_MODEL_9b5ea650ad9944b0b72028b20a686cce",
       "style": "IPY_MODEL_1ac0ce38b5ac4570b859de66632eaccc",
       "value": "<h5>Job ID</h5>"
      }
     },
     "cda887c513cc483bac19b9c168cdc799": {
      "model_module": "@jupyter-widgets/controls",
      "model_module_version": "1.5.0",
      "model_name": "DescriptionStyleModel",
      "state": {
       "description_width": ""
      }
     },
     "d17bbf37aa3041fe9e724ecc86fb26b6": {
      "model_module": "@jupyter-widgets/base",
      "model_module_version": "1.2.0",
      "model_name": "LayoutModel",
      "state": {
       "width": "145px"
      }
     },
     "dd844b370a5846cf9888fd2889701203": {
      "model_module": "@jupyter-widgets/base",
      "model_module_version": "1.2.0",
      "model_name": "LayoutModel",
      "state": {
       "width": "95px"
      }
     },
     "e2d5ebc207624587b70c89156ce5dafe": {
      "model_module": "@jupyter-widgets/controls",
      "model_module_version": "1.5.0",
      "model_name": "DescriptionStyleModel",
      "state": {
       "description_width": ""
      }
     },
     "fa2fc09181724519828de0fa862a4c91": {
      "model_module": "@jupyter-widgets/controls",
      "model_module_version": "1.5.0",
      "model_name": "ButtonModel",
      "state": {
       "button_style": "primary",
       "description": "Clear",
       "layout": "IPY_MODEL_bb948b61ef7d4038995517cb40cde7a5",
       "style": "IPY_MODEL_c621ebeefac24c6d9f03af9cb2837188"
      }
     }
    },
    "version_major": 2,
    "version_minor": 0
   }
  }
 },
 "nbformat": 4,
 "nbformat_minor": 5
}
