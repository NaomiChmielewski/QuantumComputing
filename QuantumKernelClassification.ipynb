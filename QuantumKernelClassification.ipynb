{
 "cells": [
  {
   "cell_type": "code",
   "execution_count": 1,
   "id": "9edb5af4-139b-4076-8b11-6cfec3141be6",
   "metadata": {},
   "outputs": [],
   "source": [
    "import numpy as np\n",
    "\n",
    "# Importing standard Qiskit libraries\n",
    "from qiskit import QuantumCircuit, transpile, Aer, IBMQ\n",
    "from qiskit.tools.jupyter import *\n",
    "from qiskit.visualization import *\n",
    "from ibm_quantum_widgets import *\n",
    "from qiskit.providers.aer import QasmSimulator\n",
    "from qiskit.circuit.library import ZZFeatureMap # this is the featuremap described in the paper\n",
    "#from quiskit.utils import QuantumInstance, algorithm_globals\n",
    "from qiskit_machine_learning.kernels import QuantumKernel\n",
    "from qiskit_machine_learning.datasets import ad_hoc_data # this is the data generated in the paper\n",
    "\n",
    "from sklearn.svm import SVC # this will be used to classical cclassification after the data has been mapped into the feature space\n",
    "\n",
    "import matplotlib.pyplot as plt\n",
    "\n",
    "# Loading your IBM Quantum account(s)\n",
    "provider = IBMQ.load_account()"
   ]
  },
  {
   "cell_type": "code",
   "execution_count": 2,
   "id": "44e9fc1f-01d4-4690-9efc-5866c160d31e",
   "metadata": {},
   "outputs": [],
   "source": [
    "d = 2 # dimension of the data - given in the paper\n",
    "\n",
    "# split the data into train-test\n",
    "train_features, train_labels, test_features, test_labels, adhoc_total = ad_hoc_data(\n",
    "    training_size=15,\n",
    "    test_size=10,\n",
    "    n=d,\n",
    "    gap=0.3,\n",
    "    plot_data=False,\n",
    "    one_hot=False,\n",
    "    include_sample_total=True,\n",
    ")"
   ]
  },
  {
   "cell_type": "code",
   "execution_count": 3,
   "id": "61a76c1e-fb35-4ddf-b522-29b301a7fe5e",
   "metadata": {},
   "outputs": [
    {
     "data": {
      "text/plain": [
       "<matplotlib.image.AxesImage at 0x7f27b2a4c400>"
      ]
     },
     "execution_count": 3,
     "metadata": {},
     "output_type": "execute_result"
    },
    {
     "data": {
      "image/png": "[encoded data removed]",
      "text/plain": [
       "<Figure size 360x360 with 1 Axes>"
      ]
     },
     "metadata": {
      "needs_background": "light"
     },
     "output_type": "display_data"
    }
   ],
   "source": [
    "# plot the data distribution - clearly highly complex class distributions\n",
    "plt.figure(figsize=(5, 5))\n",
    "plt.ylim(0, 2 * np.pi)\n",
    "plt.xlim(0, 2 * np.pi)\n",
    "plt.imshow(\n",
    "    np.asmatrix(adhoc_total).T,\n",
    "    interpolation=\"nearest\",\n",
    "    origin=\"lower\",\n",
    "    cmap=\"RdBu\",\n",
    "    extent=[0, 2 * np.pi, 0, 2 * np.pi],\n",
    ")"
   ]
  },
  {
   "cell_type": "code",
   "execution_count": 4,
   "id": "eb6f4028-c42a-475b-9dc7-40a76df82d58",
   "metadata": {},
   "outputs": [],
   "source": [
    "# calculate the feature map\n",
    "feature_map = ZZFeatureMap(d, reps=2, entanglement='linear')\n",
    "backend = Aer.get_backend('qasm_simulator', shots=1024)\n",
    "\n",
    "# calculate the kernel \n",
    "kernel = QuantumKernel(feature_map=feature_map, quantum_instance=backend)"
   ]
  },
  {
   "cell_type": "code",
   "execution_count": 5,
   "id": "57ef1ef0-1fb8-4d0a-8825-f5a9adac06b1",
   "metadata": {},
   "outputs": [
    {
     "name": "stdout",
     "output_type": "stream",
     "text": [
      "Test Score: 1.0\n"
     ]
    }
   ],
   "source": [
    "svc = SVC(kernel=kernel.evaluate) # call scikit-learn's support vector classifier with our custom kernel\n",
    "svc.fit(train_features, train_labels) # train the SVC\n",
    "score = svc.score(test_features, test_labels) # calculate perrformance of the model\n",
    "\n",
    "print('Test Score:', score)"
   ]
  },
  {
   "cell_type": "code",
   "execution_count": null,
   "id": "c98dbe07-20d1-439a-a167-c44856114a2e",
   "metadata": {},
   "outputs": [],
   "source": []
  }
 ],
 "metadata": {
  "kernelspec": {
   "display_name": "Qiskit v0.34.1 (ipykernel)",
   "language": "python",
   "name": "python3"
  },
  "language_info": {
   "codemirror_mode": {
    "name": "ipython",
    "version": 3
   },
   "file_extension": ".py",
   "mimetype": "text/x-python",
   "name": "python",
   "nbconvert_exporter": "python",
   "pygments_lexer": "ipython3",
   "version": "3.8.10"
  },
  "widgets": {
   "application/vnd.jupyter.widget-state+json": {
    "state": {
     "0f8f7ba4f8294b4a8549e7d136ecc054": {
      "model_module": "@jupyter-widgets/controls",
      "model_module_version": "1.5.0",
      "model_name": "ButtonStyleModel",
      "state": {}
     },
     "2e284a604bb34f379b8e5d9e22cd8fc2": {
      "model_module": "@jupyter-widgets/base",
      "model_module_version": "1.2.0",
      "model_name": "LayoutModel",
      "state": {
       "grid_area": "right",
       "padding": "0px 0px 0px 0px",
       "width": "70px"
      }
     },
     "3d356238885445f497ec1f6235a59546": {
      "model_module": "@jupyter-widgets/base",
      "model_module_version": "1.2.0",
      "model_name": "LayoutModel",
      "state": {
       "width": "190px"
      }
     },
     "427fe1113cf44cb78900b6184965bdbe": {
      "model_module": "@jupyter-widgets/controls",
      "model_module_version": "1.5.0",
      "model_name": "DescriptionStyleModel",
      "state": {
       "description_width": ""
      }
     },
     "5db8416508da4bd596a00ca6c9367778": {
      "model_module": "@jupyter-widgets/base",
      "model_module_version": "1.2.0",
      "model_name": "LayoutModel",
      "state": {
       "width": "70px"
      }
     },
     "620deeef353d42e38956d74849ffeb2e": {
      "model_module": "@jupyter-widgets/base",
      "model_module_version": "1.2.0",
      "model_name": "LayoutModel",
      "state": {
       "margin": "0px 0px 10px 0px"
      }
     },
     "632b5101cd07461d8be05602d7151500": {
      "model_module": "@jupyter-widgets/controls",
      "model_module_version": "1.5.0",
      "model_name": "DescriptionStyleModel",
      "state": {
       "description_width": ""
      }
     },
     "85562c6f25cc43e29456c430abf7bea8": {
      "model_module": "@jupyter-widgets/controls",
      "model_module_version": "1.5.0",
      "model_name": "GridBoxModel",
      "state": {
       "children": [
        "IPY_MODEL_aa3d743880f24ec497cd57e5a4482845"
       ],
       "layout": "IPY_MODEL_f96ffc63ba8a4673bab48cbd86e8ae0d"
      }
     },
     "8dc76db04427478c8e217c88992d1b03": {
      "model_module": "@jupyter-widgets/controls",
      "model_module_version": "1.5.0",
      "model_name": "DescriptionStyleModel",
      "state": {
       "description_width": ""
      }
     },
     "9bf5206dfde7427db4ffe1fd5ae96623": {
      "model_module": "@jupyter-widgets/base",
      "model_module_version": "1.2.0",
      "model_name": "LayoutModel",
      "state": {
       "margin": "0px 0px 0px 37px",
       "width": "600px"
      }
     },
     "a41568459db44b4b8aa6a76cd97135b7": {
      "model_module": "@jupyter-widgets/controls",
      "model_module_version": "1.5.0",
      "model_name": "HTMLModel",
      "state": {
       "layout": "IPY_MODEL_620deeef353d42e38956d74849ffeb2e",
       "style": "IPY_MODEL_427fe1113cf44cb78900b6184965bdbe",
       "value": "<p style='font-family: IBM Plex Sans, Arial, Helvetica, sans-serif; font-size: 20px; font-weight: medium;'>Circuit Properties</p>"
      }
     },
     "a77772450ef04a6695d9e6e357f55c2b": {
      "model_module": "@jupyter-widgets/controls",
      "model_module_version": "1.5.0",
      "model_name": "HTMLModel",
      "state": {
       "layout": "IPY_MODEL_3d356238885445f497ec1f6235a59546",
       "style": "IPY_MODEL_632b5101cd07461d8be05602d7151500",
       "value": "<h5>Job ID</h5>"
      }
     },
     "aa3d743880f24ec497cd57e5a4482845": {
      "model_module": "@jupyter-widgets/controls",
      "model_module_version": "1.5.0",
      "model_name": "ButtonModel",
      "state": {
       "button_style": "primary",
       "description": "Clear",
       "layout": "IPY_MODEL_2e284a604bb34f379b8e5d9e22cd8fc2",
       "style": "IPY_MODEL_0f8f7ba4f8294b4a8549e7d136ecc054"
      }
     },
     "b12578509c3b4ef4baeb70f686910fe0": {
      "model_module": "@jupyter-widgets/base",
      "model_module_version": "1.2.0",
      "model_name": "LayoutModel",
      "state": {}
     },
     "b19c6956c17940b0ad69356dfb5648fa": {
      "model_module": "@jupyter-widgets/controls",
      "model_module_version": "1.5.0",
      "model_name": "HTMLModel",
      "state": {
       "layout": "IPY_MODEL_5db8416508da4bd596a00ca6c9367778",
       "style": "IPY_MODEL_fd6a62244f7041da836cf2f8999a7a01",
       "value": "<h5>Queue</h5>"
      }
     },
     "b39a1362f54a4eefb22e0bad7de89ec4": {
      "model_module": "@jupyter-widgets/controls",
      "model_module_version": "1.5.0",
      "model_name": "DescriptionStyleModel",
      "state": {
       "description_width": ""
      }
     },
     "b7b52fe47ae34a07b8365bf0a0ca86d0": {
      "model_module": "@jupyter-widgets/base",
      "model_module_version": "1.2.0",
      "model_name": "LayoutModel",
      "state": {
       "width": "95px"
      }
     },
     "b7e72bca9c9c488b922a69514adffebb": {
      "model_module": "@jupyter-widgets/base",
      "model_module_version": "1.2.0",
      "model_name": "LayoutModel",
      "state": {
       "width": "145px"
      }
     },
     "c831a3b009b84b589d227c25673037f2": {
      "model_module": "@jupyter-widgets/controls",
      "model_module_version": "1.5.0",
      "model_name": "HTMLModel",
      "state": {
       "layout": "IPY_MODEL_b7e72bca9c9c488b922a69514adffebb",
       "style": "IPY_MODEL_b39a1362f54a4eefb22e0bad7de89ec4",
       "value": "<h5>Backend</h5>"
      }
     },
     "cba9e7eec31c454fb4163e9d39ecd2d9": {
      "model_module": "@jupyter-widgets/controls",
      "model_module_version": "1.5.0",
      "model_name": "HBoxModel",
      "state": {
       "children": [
        "IPY_MODEL_a77772450ef04a6695d9e6e357f55c2b",
        "IPY_MODEL_c831a3b009b84b589d227c25673037f2",
        "IPY_MODEL_ee20b02115a44399937ef8a4b39a6148",
        "IPY_MODEL_b19c6956c17940b0ad69356dfb5648fa",
        "IPY_MODEL_fb1a4c81c1084ffb9341fcc776d670f8"
       ],
       "layout": "IPY_MODEL_9bf5206dfde7427db4ffe1fd5ae96623"
      }
     },
     "e7f637e14d2d4986babf5a04290bf1ca": {
      "model_module": "@jupyter-widgets/controls",
      "model_module_version": "1.5.0",
      "model_name": "DescriptionStyleModel",
      "state": {
       "description_width": ""
      }
     },
     "ee20b02115a44399937ef8a4b39a6148": {
      "model_module": "@jupyter-widgets/controls",
      "model_module_version": "1.5.0",
      "model_name": "HTMLModel",
      "state": {
       "layout": "IPY_MODEL_b7b52fe47ae34a07b8365bf0a0ca86d0",
       "style": "IPY_MODEL_e7f637e14d2d4986babf5a04290bf1ca",
       "value": "<h5>Status</h5>"
      }
     },
     "f96ffc63ba8a4673bab48cbd86e8ae0d": {
      "model_module": "@jupyter-widgets/base",
      "model_module_version": "1.2.0",
      "model_name": "LayoutModel",
      "state": {
       "grid_template_areas": "\n                                       \". . . . right \"\n                                        ",
       "grid_template_columns": "20% 20% 20% 20% 20%",
       "width": "100%"
      }
     },
     "fb1a4c81c1084ffb9341fcc776d670f8": {
      "model_module": "@jupyter-widgets/controls",
      "model_module_version": "1.5.0",
      "model_name": "HTMLModel",
      "state": {
       "layout": "IPY_MODEL_b12578509c3b4ef4baeb70f686910fe0",
       "style": "IPY_MODEL_8dc76db04427478c8e217c88992d1b03",
       "value": "<h5>Message</h5>"
      }
     },
     "fd6a62244f7041da836cf2f8999a7a01": {
      "model_module": "@jupyter-widgets/controls",
      "model_module_version": "1.5.0",
      "model_name": "DescriptionStyleModel",
      "state": {
       "description_width": ""
      }
     }
    },
    "version_major": 2,
    "version_minor": 0
   }
  }
 },
 "nbformat": 4,
 "nbformat_minor": 5
}
