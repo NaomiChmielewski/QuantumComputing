{
 "cells": [
  {
   "cell_type": "code",
   "execution_count": 1,
   "id": "aedd266b-2274-4b59-97eb-6453b52aae69",
   "metadata": {},
   "outputs": [],
   "source": [
    "import numpy as np\n",
    "\n",
    "# Importing standard Qiskit libraries\n",
    "from qiskit import QuantumCircuit, transpile, Aer, IBMQ, execute, QuantumRegister, ClassicalRegister, assemble\n",
    "from qiskit.tools.jupyter import *\n",
    "from qiskit.visualization import *\n",
    "from ibm_quantum_widgets import *\n",
    "from qiskit.providers.aer import QasmSimulator\n",
    "from random import choice, randint\n",
    "\n",
    "# Loading your IBM Quantum account(s)\n",
    "provider = IBMQ.load_account()"
   ]
  },
  {
   "cell_type": "code",
   "execution_count": 2,
   "id": "5c072bc4-8c1b-4a01-8b00-2dff056c5524",
   "metadata": {},
   "outputs": [
    {
     "data": {
      "text/plain": [
       "<qiskit.circuit.instructionset.InstructionSet at 0x7fc5945ee380>"
      ]
     },
     "execution_count": 2,
     "metadata": {},
     "output_type": "execute_result"
    }
   ],
   "source": [
    " # size of the query\n",
    "n = 3\n",
    "\n",
    "circuit = QuantumCircuit(n+1, n+1) # add one auxiliary qubit\n",
    "\n",
    "# Place all query qubits in a superposition state\n",
    "for qbit in range(n):\n",
    "    circuit.h(qbit)\n",
    "\n",
    "# Flip auxiliary, then put it in superposition for phase kickback\n",
    "circuit.x(n)\n",
    "circuit.h(n)\n",
    "circuit.barrier()"
   ]
  },
  {
   "cell_type": "code",
   "execution_count": 3,
   "id": "aa73bb1c-0cb8-49fa-9239-dff5fb6a0550",
   "metadata": {},
   "outputs": [],
   "source": [
    "# define the function (called Oracle)\n",
    "def Oracle(circuit, n):\n",
    "    '''Output: the oracle function (balanced, constant=0 or constant=1)'''\n",
    "    oracle_type = choice(['Balanced', 'Constant0', 'Constant1']) # random choice of oracle\n",
    "    \n",
    "    if oracle_type == 'Balanced':\n",
    "        # we randomly flip query qubits to ensure the U_f is a black box\n",
    "        flipGates = randint(0, 2**n-1) # we have n qubits, thus 2**n possible configurations\n",
    "        flipGates = format(flipGates, '0' + str(n) + 'b') # format to binary\n",
    "        # flip the randomly chosen qubits:\n",
    "        for qbit in range(0, len(flipGates)):\n",
    "            if flipGates[qbit] == '1':\n",
    "                circuit.x(qbit)\n",
    "        \n",
    "        # apply CNOT to the auxiliary (this is where we apply the oracle)        \n",
    "        for qbit in range(0, n):\n",
    "            circuit.cx(qbit, n+1) \n",
    "        \n",
    "        # unflip the qubits\n",
    "        for qbit in range(0, len(flipGates)):\n",
    "            if flipGates[qbit] == '1':\n",
    "                circuit.x(qbit)\n",
    "                \n",
    "    elif oracle_type == 'Constant0':\n",
    "        # flip the auxiliary\n",
    "        circuit.z(n) \n",
    "    \n",
    "    elif oracle_type == 'Constant1':\n",
    "        pass\n",
    "    \n",
    "    circuit.barrier()\n",
    "    return circuit, oracle_type # output oracle_type to check if our algorithm works"
   ]
  },
  {
   "cell_type": "code",
   "execution_count": 4,
   "id": "07032441-c7a3-44e9-a134-2894e48098bb",
   "metadata": {},
   "outputs": [],
   "source": [
    "circuit, oracle_type = Oracle(circuit, n)"
   ]
  },
  {
   "cell_type": "code",
   "execution_count": 5,
   "id": "d8626f2b-9079-4437-9ea2-2796f8348e08",
   "metadata": {},
   "outputs": [
    {
     "data": {
      "image/png": "[encoded data removed]",
      "text/plain": [
       "<Figure size 688.597x325.08 with 1 Axes>"
      ]
     },
     "execution_count": 5,
     "metadata": {},
     "output_type": "execute_result"
    }
   ],
   "source": [
    "for qbit in range(n+1):\n",
    "    circuit.h(qbit) # revert H transform on query and target\n",
    "    circuit.measure(qbit, qbit) # measure each qubit\n",
    "circuit.draw()"
   ]
  },
  {
   "cell_type": "code",
   "execution_count": 6,
   "id": "0492c10f-0169-43c6-9f5f-10b6477dded8",
   "metadata": {},
   "outputs": [],
   "source": [
    "backend = Aer.get_backend('qasm_simulator')\n",
    "job = execute(circuit, backend, shoats=1, memory=True)\n",
    "result = job.result()\n",
    "measurements = result.get_memory()[0]"
   ]
  },
  {
   "cell_type": "code",
   "execution_count": 7,
   "id": "90cb08e6-50cd-47a1-ba64-2702e3969944",
   "metadata": {},
   "outputs": [
    {
     "name": "stdout",
     "output_type": "stream",
     "text": [
      "Prediction:\n",
      "Constant 0\n",
      "True Oracle:\n",
      "Constant0\n"
     ]
    }
   ],
   "source": [
    "query_state = measurements[-1] # this is the measurement of the first qubit\n",
    "print('Prediction:')\n",
    "if query_state == '1':\n",
    "    print('Balanced')\n",
    "else:\n",
    "    aux_output = measurements[0] # measurement of the auxiliary\n",
    "    if aux_output == '1':\n",
    "        print('Constant 1')\n",
    "    else:\n",
    "        print('Constant 0')\n",
    "        \n",
    "print('True Oracle:')\n",
    "print(oracle_type)"
   ]
  },
  {
   "cell_type": "code",
   "execution_count": null,
   "id": "ad34d43e-9681-4d04-a404-162dcfcf07ba",
   "metadata": {},
   "outputs": [],
   "source": []
  }
 ],
 "metadata": {
  "kernelspec": {
   "display_name": "Qiskit v0.34.1 (ipykernel)",
   "language": "python",
   "name": "python3"
  },
  "language_info": {
   "codemirror_mode": {
    "name": "ipython",
    "version": 3
   },
   "file_extension": ".py",
   "mimetype": "text/x-python",
   "name": "python",
   "nbconvert_exporter": "python",
   "pygments_lexer": "ipython3",
   "version": "3.8.10"
  },
  "widgets": {
   "application/vnd.jupyter.widget-state+json": {
    "state": {
     "06a919a60b044154b9ad43a6f8c91676": {
      "model_module": "@jupyter-widgets/controls",
      "model_module_version": "1.5.0",
      "model_name": "DescriptionStyleModel",
      "state": {
       "description_width": ""
      }
     },
     "0c2b249e318147458659821b86e5f6e1": {
      "model_module": "@jupyter-widgets/base",
      "model_module_version": "1.2.0",
      "model_name": "LayoutModel",
      "state": {
       "grid_area": "right",
       "padding": "0px 0px 0px 0px",
       "width": "70px"
      }
     },
     "155184c80bfd49ec9b066283ea65236b": {
      "model_module": "@jupyter-widgets/base",
      "model_module_version": "1.2.0",
      "model_name": "LayoutModel",
      "state": {}
     },
     "1a212d67209040c38a8cc51f4920cff8": {
      "model_module": "@jupyter-widgets/controls",
      "model_module_version": "1.5.0",
      "model_name": "ButtonStyleModel",
      "state": {}
     },
     "2d9857c7ac994202b5ea7a78b86f9e99": {
      "model_module": "@jupyter-widgets/controls",
      "model_module_version": "1.5.0",
      "model_name": "DescriptionStyleModel",
      "state": {
       "description_width": ""
      }
     },
     "3fc42b6463e74a02b126cd911eebe32d": {
      "model_module": "@jupyter-widgets/controls",
      "model_module_version": "1.5.0",
      "model_name": "HTMLModel",
      "state": {
       "layout": "IPY_MODEL_8ad6b0410a4140d898da7b61eedfd007",
       "style": "IPY_MODEL_92d3c09dd4e14058b0688ed73da748b9",
       "value": "<h5>Queue</h5>"
      }
     },
     "41878ac7d0f6428d9aed8caff58e65ea": {
      "model_module": "@jupyter-widgets/controls",
      "model_module_version": "1.5.0",
      "model_name": "HTMLModel",
      "state": {
       "layout": "IPY_MODEL_ed7fe300b3514c7ebeebd4ce15824292",
       "style": "IPY_MODEL_06a919a60b044154b9ad43a6f8c91676",
       "value": "<h5>Backend</h5>"
      }
     },
     "480e9594fe1e4e408af44e8bfe9d0f9d": {
      "model_module": "@jupyter-widgets/base",
      "model_module_version": "1.2.0",
      "model_name": "LayoutModel",
      "state": {
       "grid_template_areas": "\n                                       \". . . . right \"\n                                        ",
       "grid_template_columns": "20% 20% 20% 20% 20%",
       "width": "100%"
      }
     },
     "4ef9897190e34d35a4aa443bf6e3a370": {
      "model_module": "@jupyter-widgets/controls",
      "model_module_version": "1.5.0",
      "model_name": "DescriptionStyleModel",
      "state": {
       "description_width": ""
      }
     },
     "68ed622fb4614ad085586a636083a7be": {
      "model_module": "@jupyter-widgets/base",
      "model_module_version": "1.2.0",
      "model_name": "LayoutModel",
      "state": {
       "width": "190px"
      }
     },
     "6b1f0e2148044d23a2659bb56580f428": {
      "model_module": "@jupyter-widgets/controls",
      "model_module_version": "1.5.0",
      "model_name": "DescriptionStyleModel",
      "state": {
       "description_width": ""
      }
     },
     "723deebfbbb94a74827f6fec95a69923": {
      "model_module": "@jupyter-widgets/controls",
      "model_module_version": "1.5.0",
      "model_name": "ButtonModel",
      "state": {
       "button_style": "primary",
       "description": "Clear",
       "layout": "IPY_MODEL_0c2b249e318147458659821b86e5f6e1",
       "style": "IPY_MODEL_1a212d67209040c38a8cc51f4920cff8"
      }
     },
     "7fa8618cc83a40b8bfd878543ff9fb1e": {
      "model_module": "@jupyter-widgets/controls",
      "model_module_version": "1.5.0",
      "model_name": "HTMLModel",
      "state": {
       "layout": "IPY_MODEL_155184c80bfd49ec9b066283ea65236b",
       "style": "IPY_MODEL_6b1f0e2148044d23a2659bb56580f428",
       "value": "<h5>Message</h5>"
      }
     },
     "8ad6b0410a4140d898da7b61eedfd007": {
      "model_module": "@jupyter-widgets/base",
      "model_module_version": "1.2.0",
      "model_name": "LayoutModel",
      "state": {
       "width": "70px"
      }
     },
     "92d3c09dd4e14058b0688ed73da748b9": {
      "model_module": "@jupyter-widgets/controls",
      "model_module_version": "1.5.0",
      "model_name": "DescriptionStyleModel",
      "state": {
       "description_width": ""
      }
     },
     "967974a3bb8543bb8fa96dcd4849a049": {
      "model_module": "@jupyter-widgets/base",
      "model_module_version": "1.2.0",
      "model_name": "LayoutModel",
      "state": {
       "margin": "0px 0px 10px 0px"
      }
     },
     "b5e9b7373d734bd5a896302f0b2cf98a": {
      "model_module": "@jupyter-widgets/controls",
      "model_module_version": "1.5.0",
      "model_name": "GridBoxModel",
      "state": {
       "children": [
        "IPY_MODEL_723deebfbbb94a74827f6fec95a69923"
       ],
       "layout": "IPY_MODEL_480e9594fe1e4e408af44e8bfe9d0f9d"
      }
     },
     "bb4b939422a54efea14592047e90af25": {
      "model_module": "@jupyter-widgets/base",
      "model_module_version": "1.2.0",
      "model_name": "LayoutModel",
      "state": {
       "margin": "0px 0px 0px 37px",
       "width": "600px"
      }
     },
     "c8e62b153b29461497b6f987ec18b24f": {
      "model_module": "@jupyter-widgets/controls",
      "model_module_version": "1.5.0",
      "model_name": "HTMLModel",
      "state": {
       "layout": "IPY_MODEL_68ed622fb4614ad085586a636083a7be",
       "style": "IPY_MODEL_dac75e9485954e279363d20dfd9ef1be",
       "value": "<h5>Job ID</h5>"
      }
     },
     "d3d7451e96b8489fa2eeeba48db03a0c": {
      "model_module": "@jupyter-widgets/controls",
      "model_module_version": "1.5.0",
      "model_name": "HTMLModel",
      "state": {
       "layout": "IPY_MODEL_967974a3bb8543bb8fa96dcd4849a049",
       "style": "IPY_MODEL_2d9857c7ac994202b5ea7a78b86f9e99",
       "value": "<p style='font-family: IBM Plex Sans, Arial, Helvetica, sans-serif; font-size: 20px; font-weight: medium;'>Circuit Properties</p>"
      }
     },
     "d654f3fce93b417d9e37c7a53315301a": {
      "model_module": "@jupyter-widgets/controls",
      "model_module_version": "1.5.0",
      "model_name": "HTMLModel",
      "state": {
       "layout": "IPY_MODEL_ff1e2ab99b524766938dd7fa3278280f",
       "style": "IPY_MODEL_4ef9897190e34d35a4aa443bf6e3a370",
       "value": "<h5>Status</h5>"
      }
     },
     "dac75e9485954e279363d20dfd9ef1be": {
      "model_module": "@jupyter-widgets/controls",
      "model_module_version": "1.5.0",
      "model_name": "DescriptionStyleModel",
      "state": {
       "description_width": ""
      }
     },
     "ecfc4a73594f43a1a860a47e1dd52e08": {
      "model_module": "@jupyter-widgets/controls",
      "model_module_version": "1.5.0",
      "model_name": "HBoxModel",
      "state": {
       "children": [
        "IPY_MODEL_c8e62b153b29461497b6f987ec18b24f",
        "IPY_MODEL_41878ac7d0f6428d9aed8caff58e65ea",
        "IPY_MODEL_d654f3fce93b417d9e37c7a53315301a",
        "IPY_MODEL_3fc42b6463e74a02b126cd911eebe32d",
        "IPY_MODEL_7fa8618cc83a40b8bfd878543ff9fb1e"
       ],
       "layout": "IPY_MODEL_bb4b939422a54efea14592047e90af25"
      }
     },
     "ed7fe300b3514c7ebeebd4ce15824292": {
      "model_module": "@jupyter-widgets/base",
      "model_module_version": "1.2.0",
      "model_name": "LayoutModel",
      "state": {
       "width": "145px"
      }
     },
     "ff1e2ab99b524766938dd7fa3278280f": {
      "model_module": "@jupyter-widgets/base",
      "model_module_version": "1.2.0",
      "model_name": "LayoutModel",
      "state": {
       "width": "95px"
      }
     }
    },
    "version_major": 2,
    "version_minor": 0
   }
  }
 },
 "nbformat": 4,
 "nbformat_minor": 5
}
